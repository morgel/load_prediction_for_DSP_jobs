{
 "cells": [
  {
   "cell_type": "code",
   "execution_count": 1,
   "metadata": {},
   "outputs": [
    {
     "name": "stdout",
     "output_type": "stream",
     "text": [
      "Requirement already satisfied: pmdarima in /home/ec2-user/anaconda3/envs/python3/lib/python3.6/site-packages (1.7.0)\n",
      "Requirement already satisfied: statsmodels>=0.11 in /home/ec2-user/anaconda3/envs/python3/lib/python3.6/site-packages (from pmdarima) (0.11.0)\n",
      "Requirement already satisfied: urllib3 in /home/ec2-user/anaconda3/envs/python3/lib/python3.6/site-packages (from pmdarima) (1.25.8)\n",
      "Requirement already satisfied: Cython<0.29.18,>=0.29 in /home/ec2-user/anaconda3/envs/python3/lib/python3.6/site-packages (from pmdarima) (0.29.15)\n",
      "Requirement already satisfied: scikit-learn>=0.22 in /home/ec2-user/anaconda3/envs/python3/lib/python3.6/site-packages (from pmdarima) (0.23.1)\n",
      "Requirement already satisfied: pandas>=0.19 in /home/ec2-user/anaconda3/envs/python3/lib/python3.6/site-packages (from pmdarima) (1.0.5)\n",
      "Requirement already satisfied: numpy>=1.17.3 in /home/ec2-user/anaconda3/envs/python3/lib/python3.6/site-packages (from pmdarima) (1.18.1)\n",
      "Requirement already satisfied: joblib>=0.11 in /home/ec2-user/anaconda3/envs/python3/lib/python3.6/site-packages (from pmdarima) (0.14.1)\n",
      "Requirement already satisfied: scipy>=1.3.2 in /home/ec2-user/anaconda3/envs/python3/lib/python3.6/site-packages (from pmdarima) (1.4.1)\n",
      "Requirement already satisfied: patsy>=0.5 in /home/ec2-user/anaconda3/envs/python3/lib/python3.6/site-packages (from statsmodels>=0.11->pmdarima) (0.5.1)\n",
      "Requirement already satisfied: threadpoolctl>=2.0.0 in /home/ec2-user/anaconda3/envs/python3/lib/python3.6/site-packages (from scikit-learn>=0.22->pmdarima) (2.1.0)\n",
      "Requirement already satisfied: pytz>=2017.2 in /home/ec2-user/anaconda3/envs/python3/lib/python3.6/site-packages (from pandas>=0.19->pmdarima) (2019.3)\n",
      "Requirement already satisfied: python-dateutil>=2.6.1 in /home/ec2-user/anaconda3/envs/python3/lib/python3.6/site-packages (from pandas>=0.19->pmdarima) (2.8.1)\n",
      "Requirement already satisfied: six in /home/ec2-user/anaconda3/envs/python3/lib/python3.6/site-packages (from patsy>=0.5->statsmodels>=0.11->pmdarima) (1.14.0)\n",
      "\u001b[33mWARNING: You are using pip version 20.0.2; however, version 20.2.2 is available.\n",
      "You should consider upgrading via the '/home/ec2-user/anaconda3/envs/python3/bin/python -m pip install --upgrade pip' command.\u001b[0m\n"
     ]
    }
   ],
   "source": [
    "!pip install pmdarima"
   ]
  },
  {
   "cell_type": "code",
   "execution_count": 2,
   "metadata": {},
   "outputs": [],
   "source": [
    "import copy\n",
    "import time\n",
    "import psutil\n",
    "import math\n",
    "from pandas import read_csv\n",
    "from pandas import datetime\n",
    "from pandas import DataFrame\n",
    "import pandas as pd\n",
    "import numpy as np\n",
    "from statsmodels.tsa.arima_model import ARIMA\n",
    "import pmdarima as pm\n",
    "from pmdarima.metrics import smape\n",
    "from matplotlib import pyplot\n",
    "from pandas.plotting import autocorrelation_plot\n",
    "from pandas.plotting import lag_plot\n",
    "from sklearn.metrics import mean_squared_error\n",
    "import psutil"
   ]
  },
  {
   "cell_type": "code",
   "execution_count": 3,
   "metadata": {},
   "outputs": [],
   "source": [
    "class SymmetricMeanAbsolutePercentageErrorLoss():\n",
    "    def __call__(self, y_pred, y):\n",
    "        y_true = y.reshape(y_pred.shape)\n",
    "        \n",
    "        return np.mean(np.abs(y_true - y_pred) / (np.abs(y_true) + np.abs(y_pred)))\n",
    "    \n",
    "sMAPE = SymmetricMeanAbsolutePercentageErrorLoss()\n",
    "\n",
    "class Forecast():\n",
    "    def __call__(self, model, periods): \n",
    "        fc, conf_int = model.predict(n_periods=periods, return_conf_int=True)\n",
    "    \n",
    "        return (fc.tolist(), np.asarray(conf_int).tolist())\n",
    "    \n",
    "forecast = Forecast()\n",
    "\n",
    "# for CPU profiling\n",
    "p = psutil.Process()"
   ]
  },
  {
   "cell_type": "code",
   "execution_count": 4,
   "metadata": {
    "scrolled": true
   },
   "outputs": [
    {
     "name": "stdout",
     "output_type": "stream",
     "text": [
      "(604800, 1)\n",
      "        logEventCount\n",
      "second               \n",
      "0                 154\n",
      "1                 213\n",
      "2                 351\n",
      "3                 114\n",
      "4                 139\n"
     ]
    },
    {
     "data": {
      "image/png": "[encoded data removed]",
      "text/plain": [
       "<Figure size 432x288 with 1 Axes>"
      ]
     },
     "metadata": {
      "needs_background": "light"
     },
     "output_type": "display_data"
    }
   ],
   "source": [
    "file = 'google_cluster_usage_traces_7D_1S.csv'\n",
    "df = read_csv(file, sep='|', index_col=[0])\n",
    "print(df.shape)\n",
    "#df = df[np.arange(len(df)) % 60 == 0]\n",
    "df = df[:10080]\n",
    "print(df.head())\n",
    "df.plot()\n",
    "pyplot.show()"
   ]
  },
  {
   "cell_type": "code",
   "execution_count": 5,
   "metadata": {},
   "outputs": [
    {
     "data": {
      "text/plain": [
       "64"
      ]
     },
     "execution_count": 5,
     "metadata": {},
     "output_type": "execute_result"
    }
   ],
   "source": [
    "# create file with headers for results\n",
    "results_file_path = f'arima_traces_CPU_sample_rate_1S_{time.time()}_results.csv'\n",
    "f = open(results_file_path,'a+')\n",
    "f.write(f\"interval|f_length|p_number|s_number|mse|smape|gpu|util|duration\\n\")"
   ]
  },
  {
   "cell_type": "code",
   "execution_count": 6,
   "metadata": {
    "scrolled": true
   },
   "outputs": [
    {
     "data": {
      "image/png": "[encoded data removed]",
      "text/plain": [
       "<Figure size 432x288 with 1 Axes>"
      ]
     },
     "metadata": {
      "needs_background": "light"
     },
     "output_type": "display_data"
    },
    {
     "name": "stdout",
     "output_type": "stream",
     "text": [
      "Performing stepwise search to minimize aic\n",
      " ARIMA(2,0,2)(0,0,0)[0] intercept   : AIC=64365.945, Time=3.20 sec\n",
      " ARIMA(0,0,0)(0,0,0)[0] intercept   : AIC=64418.434, Time=0.07 sec\n",
      " ARIMA(1,0,0)(0,0,0)[0] intercept   : AIC=64392.146, Time=0.15 sec\n",
      " ARIMA(0,0,1)(0,0,0)[0] intercept   : AIC=64396.118, Time=0.28 sec\n",
      " ARIMA(0,0,0)(0,0,0)[0]             : AIC=64805.847, Time=0.04 sec\n",
      " ARIMA(1,0,2)(0,0,0)[0] intercept   : AIC=64380.451, Time=0.94 sec\n",
      " ARIMA(2,0,1)(0,0,0)[0] intercept   : AIC=64381.151, Time=1.20 sec\n",
      " ARIMA(3,0,2)(0,0,0)[0] intercept   : AIC=64365.352, Time=4.42 sec\n",
      " ARIMA(3,0,1)(0,0,0)[0] intercept   : AIC=64376.473, Time=0.99 sec\n",
      " ARIMA(4,0,2)(0,0,0)[0] intercept   : AIC=64362.705, Time=5.52 sec\n",
      " ARIMA(4,0,1)(0,0,0)[0] intercept   : AIC=64370.837, Time=1.07 sec\n",
      " ARIMA(5,0,2)(0,0,0)[0] intercept   : AIC=64359.418, Time=2.71 sec\n",
      " ARIMA(5,0,1)(0,0,0)[0] intercept   : AIC=64358.237, Time=1.38 sec\n",
      " ARIMA(5,0,0)(0,0,0)[0] intercept   : AIC=64356.528, Time=0.71 sec\n",
      " ARIMA(4,0,0)(0,0,0)[0] intercept   : AIC=64369.292, Time=0.40 sec\n",
      " ARIMA(5,0,0)(0,0,0)[0]             : AIC=64505.989, Time=0.28 sec\n",
      "\n",
      "Best model:  ARIMA(5,0,0)(0,0,0)[0] intercept\n",
      "Total fit time: 23.397 seconds\n"
     ]
    }
   ],
   "source": [
    "logEvent_count = df['logEventCount'].tolist()\n",
    "\n",
    "# global config values, window size, tracker for current offset and max prediction length\n",
    "w_size = 3600\n",
    "offset = 3600\n",
    "f_max = 900\n",
    "sample_rate = 1\n",
    "\n",
    "# training and test sets\n",
    "y_train = logEvent_count[:offset]\n",
    "y_test = logEvent_count[offset:offset + f_max]\n",
    "\n",
    "train = pd.Series(y_train)\n",
    "train.plot()\n",
    "pyplot.show()\n",
    "\n",
    "meta = []\n",
    "\n",
    "# train and append the model\n",
    "start_time = time.time()\n",
    "p.cpu_percent(interval=None)\n",
    "model = pm.auto_arima(y_train, seasonal=True, stepwise=True,\n",
    "                      suppress_warnings=True, error_action=\"ignore\",\n",
    "                      max_order=None, trace=True)\n",
    "util = (p.cpu_percent(interval=None) / psutil.cpu_count()) / 100\n",
    "end_time = time.time()\n",
    "\n",
    "# calculate duration based on sample rate, always at least 1\n",
    "duration = math.ceil((end_time - start_time) / sample_rate) \n",
    "\n",
    "# update meta information: model, time of last model update, time when model updates is finished, number of observations\n",
    "meta.append(model)\n",
    "meta.append(offset)\n",
    "meta.append(offset + duration)\n",
    "meta.append(duration)\n",
    "\n",
    "# update offset with duration \n",
    "offset += duration\n",
    "\n",
    "interval_meta = dict.fromkeys([300, 900, 1800, 2700, 3600, math.inf])\n",
    "\n",
    "# deep copy models for all interval lengths and update meta\n",
    "for interval in interval_meta:\n",
    "    \n",
    "    temp = copy.deepcopy(meta)\n",
    "    temp.append(offset + interval)\n",
    "    temp.append(None)\n",
    "    temp.append(None)\n",
    "    temp.append(None)\n",
    "    interval_meta[interval] = temp\n",
    "    \n",
    "    f.write(f\"{interval}|{-1}|{offset}|{offset}|{-1}|{-1}|{0}|{util}|{end_time - start_time}|\\n\")\n",
    "    #print(f\"{interval}|{-1}|{offset}|{offset}|{-1}|{-1}|{0}|{util}|{end_time - start_time}|{interval_meta[interval]}\\n\")\n",
    "    \n",
    "# calculate number of observations based on sample rate\n",
    "observations_count = math.floor((end_time - start_time) / sample_rate)\n",
    "\n",
    "start_time = time.time()\n",
    "p.cpu_percent(interval=None)\n",
    "\n",
    "if observations_count != 0:\n",
    "    # retrieve observations\n",
    "    observations = logEvent_count[offset:offset + observations_count]\n",
    "    # update the model with latest observations\n",
    "    model.update(observations)\n",
    "    \n",
    "# create forcast of maximum length\n",
    "fc = forecast(model, f_max)[0]\n",
    "util = (p.cpu_percent(interval=None) / psutil.cpu_count()) / 100\n",
    "end_time = time.time()\n",
    "\n",
    "# calculate duration based on sample rate, always at least 1\n",
    "duration = math.ceil((end_time - start_time) / sample_rate) \n",
    "    \n",
    "# evaluate forecast lengths by interval and write to file\n",
    "for interval in interval_meta:    \n",
    "\n",
    "    # update meta information, set next forecast and reset number of observations to 0\n",
    "    interval_meta[interval][2] = interval_meta[interval][2] + duration\n",
    "    interval_meta[interval][3] = 0\n",
    "    \n",
    "    for f_length in np.arange(90,990,90):\n",
    "\n",
    "        mse_val = mean_squared_error(y_test[:f_length], fc[:f_length])\n",
    "        smape_val = sMAPE(np.array(y_test[:f_length]), np.array(fc[:f_length]))\n",
    "\n",
    "        # plot actual and expected graphs\n",
    "        #act = pd.Series(y_test[:f_length])\n",
    "        #act.plot()\n",
    "        #fcs = pd.Series(fc[:f_length])\n",
    "        #fcs.plot()\n",
    "        #pyplot.show()\n",
    "\n",
    "        f.write(f\"{interval}|{f_length}|{interval_meta[interval][1]}|{offset}|{mse_val}|{smape_val}|{0}|{util}|{end_time - start_time}\\n\")\n",
    "        #print(f\"{interval}|{f_length}|{interval_meta[interval][1]}|{offset}|{mse_val}|{smape_val}|{0}|{util}|{end_time - start_time}|{interval_meta[interval]}\\n\")"
   ]
  },
  {
   "cell_type": "code",
   "execution_count": 7,
   "metadata": {},
   "outputs": [],
   "source": [
    "interval_meta_copy = copy.deepcopy(interval_meta)"
   ]
  },
  {
   "cell_type": "code",
   "execution_count": null,
   "metadata": {},
   "outputs": [],
   "source": [
    "for i in range(offset, len(logEvent_count)):\n",
    "               \n",
    "    # test if enough datapoints exist for forecast\n",
    "    if f_max > (len(logEvent_count) - i):\n",
    "        break\n",
    "\n",
    "    for interval in interval_meta_copy:\n",
    "\n",
    "        # test if new model is available\n",
    "        if (i == interval_meta_copy[interval][6]):\n",
    "            interval_meta_copy[interval][0] = copy.deepcopy(interval_meta_copy[interval][5])\n",
    "            interval_meta_copy[interval][5] = None\n",
    "            interval_meta_copy[interval][1] = interval_meta_copy[interval][6]\n",
    "            interval_meta_copy[interval][6] = None\n",
    "            interval_meta_copy[interval][3] = interval_meta_copy[interval][7]\n",
    "            interval_meta_copy[interval][7] = None\n",
    "\n",
    "        # test if model needs to be updated\n",
    "        if (i == interval_meta_copy[interval][4]):\n",
    "\n",
    "            # retrieve training data for current window\n",
    "            y_train = logEvent_count[i-w_size:i]\n",
    "\n",
    "            # train new model\n",
    "            start_time = time.time()\n",
    "            p.cpu_percent(interval=None)\n",
    "            model = pm.auto_arima(y_train, seasonal=True, stepwise=True,\n",
    "                                  suppress_warnings=True, error_action=\"ignore\",\n",
    "                                  max_order=None, trace=False)\n",
    "            util = (p.cpu_percent(interval=None) / psutil.cpu_count()) / 100\n",
    "            end_time = time.time()\n",
    "            \n",
    "            # calculate duration based on sample rate, always at least 1\n",
    "            duration = math.ceil((end_time - start_time) / sample_rate) \n",
    "\n",
    "            # update meta information with next model info\n",
    "            interval_meta_copy[interval][4] += interval  \n",
    "            interval_meta_copy[interval][5] = copy.deepcopy(model)\n",
    "            interval_meta_copy[interval][6] = interval_meta_copy[interval][2] + duration\n",
    "            interval_meta_copy[interval][7] = duration\n",
    "\n",
    "            f.write(f\"{interval}|{-1}|{i}|{i}|{-1}|{-1}|{0}|{util}|{end_time - start_time}|\\n\")\n",
    "            #print(f\"{interval}|{-1}|{i}|{i}|{-1}|{-1}|{0}|{util}|{end_time - start_time}|\\n\")\n",
    "\n",
    "        # test if forecast can be performed this interation\n",
    "        if (i == interval_meta_copy[interval][2]):\n",
    "\n",
    "            # perform update with observations and execute forecast\n",
    "            observations = logEvent_count[i-interval_meta_copy[interval][3]:i]\n",
    "            \n",
    "            start_time = time.time()\n",
    "            p.cpu_percent(interval=None)\n",
    "            \n",
    "            if len(observations) != 0:\n",
    "                # update the model with latest observations\n",
    "                model.update(observations)\n",
    "                \n",
    "            # create forecast of maximum length\n",
    "            fc = forecast(model, f_max)[0]\n",
    "            util = (p.cpu_percent(interval=None) / psutil.cpu_count()) / 100\n",
    "            end_time = time.time()\n",
    "            \n",
    "            # calculate duration based on sample rate, always at least 1\n",
    "            duration = math.ceil((end_time - start_time) / sample_rate) \n",
    "\n",
    "            # update meta information, set next forecast\n",
    "            interval_meta_copy[interval][2] = interval_meta_copy[interval][2] + duration\n",
    "\n",
    "            y_test = logEvent_count[i:i + f_max]\n",
    "\n",
    "            # loop through forecast lengths and evaluate       \n",
    "            for f_length in np.arange(90,990,90):\n",
    "\n",
    "                mse_val = mean_squared_error(y_test[:f_length], fc[:f_length])\n",
    "                smape_val = sMAPE(np.array(y_test[:f_length]), np.array(fc[:f_length]))\n",
    "\n",
    "                f.write(f\"{interval}|{f_length}|{interval_meta_copy[interval][1]}|{i}|{mse_val}|{smape_val}|{0}|{util}|{end_time - start_time}\\n\")\n",
    "                #print(f\"{interval}|{f_length}|{interval_meta_copy[interval][1]}|{i}|{mse_val}|{smape_val}|{0}|{util}|{end_time - start_time}|{interval_meta_copy[interval]}\\n\")\n",
    "\n",
    "            # reset number of observations\n",
    "            interval_meta_copy[interval][3] = duration\n",
    "\n",
    "        else:\n",
    "\n",
    "            # increment observations while system is busy\n",
    "            interval_meta_copy[interval][3] += 1\n",
    "            "
   ]
  },
  {
   "cell_type": "code",
   "execution_count": null,
   "metadata": {},
   "outputs": [],
   "source": [
    "f.close()"
   ]
  },
  {
   "cell_type": "code",
   "execution_count": null,
   "metadata": {},
   "outputs": [],
   "source": [
    "# TODO check number of observations for new models & check p_number is correctly updated & check model finish number"
   ]
  }
 ],
 "metadata": {
  "kernelspec": {
   "display_name": "conda_python3",
   "language": "python",
   "name": "conda_python3"
  },
  "language_info": {
   "codemirror_mode": {
    "name": "ipython",
    "version": 3
   },
   "file_extension": ".py",
   "mimetype": "text/x-python",
   "name": "python",
   "nbconvert_exporter": "python",
   "pygments_lexer": "ipython3",
   "version": "3.6.10"
  }
 },
 "nbformat": 4,
 "nbformat_minor": 2
}
